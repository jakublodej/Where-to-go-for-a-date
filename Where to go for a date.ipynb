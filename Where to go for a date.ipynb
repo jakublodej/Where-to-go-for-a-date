{
 "cells": [
  {
   "cell_type": "code",
   "execution_count": 3,
   "metadata": {},
   "outputs": [
    {
     "name": "stdout",
     "output_type": "stream",
     "text": [
      "Welcome to: Where to go for a date?\n",
      "Choose situation: \n",
      "1.First date\n",
      "2.Daily routine\n",
      "3.After an argument\n",
      "Your situation is:1\n",
      "   \n",
      "Choose budget: \n",
      "1.Low 5€ \n",
      "2.Normal 15€ \n",
      "3.High 50€\n",
      "Your budget is:1\n",
      "   \n",
      "Choose type of girl: \n",
      "1.Ambitious \n",
      "2.Innocent \n",
      "3.Nerd \n",
      "4.Playgirl \n",
      "5.Feminine\n",
      "Your girl is:1\n"
     ]
    },
    {
     "data": {
      "text/plain": [
       "'You should take her to Museum with free enternance'"
      ]
     },
     "execution_count": 3,
     "metadata": {},
     "output_type": "execute_result"
    }
   ],
   "source": [
    "#Where to go for a date\n",
    "print(\"Welcome to: Where to go for a date?\")\n",
    "print(\"Choose situation: \\n1.First date\\n2.Daily routine\\n3.After an argument\")\n",
    "situation=int(input(\"Your situation is:\"))\n",
    "print (\"   \")\n",
    "print(\"Choose budget: \\n1.Low 5€ \\n2.Normal 15€ \\n3.High 50€\")\n",
    "budget=int(input(\"Your budget is:\"))\n",
    "print (\"   \")\n",
    "print(\"Choose type of girl: \\n1.Ambitious \\n2.Innocent \\n3.Nerd \\n4.Playgirl \\n5.Feminine\")\n",
    "girl=int(input(\"Your girl is:\"))\n",
    "\n",
    "def date():\n",
    "    #Ambitious\n",
    "    if situation==1 and budget==1 and girl==1:\n",
    "        return (\"You should take her to Museum with free enternance\")\n",
    "    if situation==2 and budget==1 and girl==1:\n",
    "        return (\"You should take her for a walk to nice park\")\n",
    "    if situation==3 and budget==1 and girl==1:\n",
    "        return (\"You should buy her flowers and apologize :(\")\n",
    "    #Innocent\n",
    "    if situation==1 and budget==1 and girl==1:\n",
    "        return (\"You should take her to Museum with free enternance\")\n",
    "    if situation==2 and budget==1 and girl==1:\n",
    "        return (\"You should take her for a walk to nice park\")\n",
    "    if situation==3 and budget==1 and girl==1:\n",
    "        return (\"You should buy her flowers and apologize :(\")\n",
    "    \n",
    "date()"
   ]
  },
  {
   "cell_type": "code",
   "execution_count": null,
   "metadata": {},
   "outputs": [],
   "source": []
  }
 ],
 "metadata": {
  "kernelspec": {
   "display_name": "Python 3",
   "language": "python",
   "name": "python3"
  },
  "language_info": {
   "codemirror_mode": {
    "name": "ipython",
    "version": 3
   },
   "file_extension": ".py",
   "mimetype": "text/x-python",
   "name": "python",
   "nbconvert_exporter": "python",
   "pygments_lexer": "ipython3",
   "version": "3.7.3"
  }
 },
 "nbformat": 4,
 "nbformat_minor": 2
}
